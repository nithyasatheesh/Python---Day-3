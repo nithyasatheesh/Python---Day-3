{
 "cells": [
  {
   "cell_type": "markdown",
   "id": "62235a90",
   "metadata": {},
   "source": [
    "### Regular Expressions (Pattern matching)"
   ]
  },
  {
   "cell_type": "markdown",
   "id": "1e132e11",
   "metadata": {},
   "source": [
    "#### What is a regular expression and what makes it so important?\n",
    "\n",
    "Regex are used in Google analytics in URL matching in supporting search and replace in most popular editors like Sublime, Notepad++, Brackets, Google Docs and Microsoft word.\n",
    "\n",
    "Example :  Regular expression for an email address :\n",
    "^([a-zA-Z0-9_\\-\\.]+)@([a-zA-Z0-9_\\-\\.]+)\\.([a-zA-Z]{2,5})$ \n",
    "\n",
    "The above regular expression can be used for checking if a given set of characters is an email address or not."
   ]
  },
  {
   "cell_type": "markdown",
   "id": "7d8214d6",
   "metadata": {},
   "source": [
    "A Regular Expressions (RegEx) is a special sequence of characters that uses a search pattern to find a string or set of strings. It can detect the presence of a text by matching it with a particular pattern, and also can split a pattern into one or more sub-patterns."
   ]
  },
  {
   "cell_type": "markdown",
   "id": "65086a7c",
   "metadata": {},
   "source": [
    "##### How to write regular expression?\n",
    "\n",
    "##### Repeaters : * , + and { } :\n",
    "These symbols act as repeaters and tell the computer that the preceding character is to be used for more than just one time.\n",
    "The asterisk symbol ( * ):\n",
    "It tells the computer to match the preceding character (or set of characters) for 0 or more times (upto infinite).\n",
    "\n",
    "**Example** : The regular expression ab*c will give ac, abc, abbc, \n",
    "abbbc….ans so on \n",
    "\n",
    "##### The Plus symbol ( + ):\n",
    "It tells the computer to repeat the preceding character (or set of characters) for atleast one or more times(upto infinite).\n",
    "Example : The regular expression ab+c will give abc, abbc,\n",
    "abbc, … and so on."
   ]
  },
  {
   "cell_type": "markdown",
   "id": "7e7eb26b",
   "metadata": {},
   "source": [
    "##### The curly braces {…}:\n",
    "It tells the computer to repeat the preceding character (or set of characters) for as many times as the value inside this bracket.\n",
    "\n",
    "Example : {2} means that the preceding character is to be repeated 2 times, {min,} means the preceding character is matches min or  more times. \n",
    "\n",
    "{min,max} means that the preceding character is repeated at\n",
    "least min & at most max times."
   ]
  },
  {
   "cell_type": "markdown",
   "id": "488e446b",
   "metadata": {},
   "source": [
    "##### Wildcard – ( . )\n",
    "The dot symbol can take place of any other symbol, that is why it\n",
    "is called the wildcard character.\n",
    "Example : \n",
    "The Regular expression .* will tell the computer that any character\n",
    "can be used any number of times.\n",
    "\n",
    "##### The caret ( ^ ) symbol: Setting position for match :tells the computer that the match must start at the beginning of the string or line.\n",
    "\n",
    "Example : ^\\d{3} will match with patterns like \"901\" in \"901-333-\".\n",
    "\n",
    "***The dollar($)symbol***\n",
    "\n",
    "It tells the computer that the match must occur at the end of the string or before\n",
    "\\n at the end of the line or string.\n",
    "\n",
    "Example : -\\d{3}$  will match with patterns like \"-333\" in \"-901-333\"."
   ]
  },
  {
   "cell_type": "markdown",
   "id": "82aae297",
   "metadata": {},
   "source": [
    "##### Character Classes\n",
    "\n",
    "A character class matches any one of a set of characters. It is used to match the most basic element of a language like a letter, a digit, space, a symbol etc.\n",
    "\n",
    "/s : matches any whitespace characters such as space and tab\n",
    "\n",
    "/S : matches any non-whitespace characters\n",
    "\n",
    "/d : matches any digit character\n",
    "\n",
    "/D : matches any non-digit characters\n",
    "\n",
    "/w : matches any word character (basically alpha-numeric)\n",
    "\n",
    "/W : matches any non-word character\n",
    "\n",
    "/b : matches any word boundary (this would include spaces, dashes, commas, semi-colons, etc)"
   ]
  },
  {
   "cell_type": "markdown",
   "id": "05197b89",
   "metadata": {},
   "source": [
    "**[set_of_characters]** – Matches any single character in set_of_characters. By default, the match is case-sensitive.\n",
    "\n",
    "**Example** : [abc] will match characters a,b and c in any string.\n",
    "[^set_of_characters] – Negation: Matches any single character that is not in set_of_characters. By default, the match is case sensitive.\n",
    "\n",
    "**Example** : [^abc] will match any character except a,b,c ."
   ]
  },
  {
   "cell_type": "markdown",
   "id": "c6ee9140",
   "metadata": {},
   "source": [
    "**[first-last]** – Character range: Matches any single character in the range from first to last.\n",
    "\n",
    "**Example** : [a-zA-z] will match any character from a to z or A to Z. treat the following character as a search character and consider it for matching pattern."
   ]
  },
  {
   "cell_type": "markdown",
   "id": "3ea4ba4a",
   "metadata": {},
   "source": [
    "- re.findall()"
   ]
  },
  {
   "cell_type": "markdown",
   "id": "009f3290",
   "metadata": {},
   "source": [
    "re.findall() is used to search for “all” occurrences that match a given pattern."
   ]
  },
  {
   "cell_type": "markdown",
   "id": "83b3846d",
   "metadata": {},
   "source": [
    "“^”: This expression matches the start of a string\n",
    "\n",
    "“w+“: This expression matches the alphanumeric character in the string\n",
    "\n",
    "[] - Square brackets \n",
    "Square brackets specifies a set of characters you wish to match.\n",
    "\n",
    "[^abc] means any character except a or b or c.\n",
    "\n",
    "[^0-9] means any non-digit character.\n",
    "\n",
    "'.'--> matches any character"
   ]
  },
  {
   "cell_type": "code",
   "execution_count": null,
   "id": "ec0e8670",
   "metadata": {},
   "outputs": [],
   "source": [
    "# load module\n"
   ]
  },
  {
   "cell_type": "code",
   "execution_count": null,
   "id": "a3bf178a",
   "metadata": {},
   "outputs": [],
   "source": [
    "### '*' (zero or more occurrences)\n",
    "pattern=r'a*'   # matches zero or more 'a' characters\n",
    "s='aaa'\n",
    "re.findall(pattern,s)"
   ]
  },
  {
   "cell_type": "code",
   "execution_count": null,
   "id": "7116030f",
   "metadata": {},
   "outputs": [],
   "source": [
    "### '+'\n",
    "re.findall('a+','aaa')"
   ]
  },
  {
   "cell_type": "code",
   "execution_count": null,
   "id": "b079675d",
   "metadata": {},
   "outputs": [],
   "source": [
    "### '{}'\n",
    "pattern=r'a{2}'\n",
    "s='aaa'\n",
    "re.findall(pattern,s)"
   ]
  },
  {
   "cell_type": "code",
   "execution_count": null,
   "id": "e196ec11",
   "metadata": {},
   "outputs": [],
   "source": [
    "### '\\d'\n",
    "# match exactly three digits\n",
    "x=\"123 456 7890\"\n",
    "pattern=r'\\d{3}'\n",
    "re.findall(pattern,x)"
   ]
  },
  {
   "cell_type": "code",
   "execution_count": null,
   "id": "24f56909",
   "metadata": {},
   "outputs": [],
   "source": [
    "### '\\d{}'\n",
    "x=\"12 345 6789 12345\"\n",
    "# match between 2 and 4 digits\n",
    "pattern=r'\\d{2,4}'\n",
    "re.findall(pattern,x)"
   ]
  },
  {
   "cell_type": "code",
   "execution_count": null,
   "id": "91296d8e",
   "metadata": {},
   "outputs": [],
   "source": [
    "## '^'\n",
    "#check first 3 digits\n",
    "x=\"50289-876\"\n",
    "pattern='^\\d{3}'\n",
    "re.findall(pattern,x)"
   ]
  },
  {
   "cell_type": "code",
   "execution_count": null,
   "id": "00afed71",
   "metadata": {},
   "outputs": [],
   "source": [
    "### '$'\n",
    "#check last 2 digits\n",
    "y=\"12378-9876\"\n",
    "pattern='\\d{2}$'\n",
    "re.findall(pattern, y)"
   ]
  },
  {
   "cell_type": "code",
   "execution_count": null,
   "id": "b783c220",
   "metadata": {},
   "outputs": [],
   "source": [
    "###'\\D'\n",
    "S1='Python Programming language.3456,5678'\n",
    "# match the characters\n",
    "pattern='\\D+'\n",
    "re.findall(pattern, S1)"
   ]
  },
  {
   "cell_type": "code",
   "execution_count": null,
   "id": "e57468fa",
   "metadata": {},
   "outputs": [],
   "source": [
    "# extract numbers from a given string\n",
    "str1='hello 112 hi 89. welcome 34'\n",
    "# expected output: ['112','89','34']\n",
    "pattern='\\d+'\n",
    "re.findall(pattern,str1)"
   ]
  },
  {
   "cell_type": "code",
   "execution_count": null,
   "id": "35786a19",
   "metadata": {},
   "outputs": [],
   "source": [
    "## split based on digits\n",
    "str_3='Twelve:12 eigty one:81'\n",
    "pattern='\\d+'\n",
    "re.split(pattern,str_3)"
   ]
  },
  {
   "cell_type": "code",
   "execution_count": null,
   "id": "0d20e318",
   "metadata": {},
   "outputs": [],
   "source": []
  }
 ],
 "metadata": {
  "kernelspec": {
   "display_name": "Python 3 (ipykernel)",
   "language": "python",
   "name": "python3"
  },
  "language_info": {
   "codemirror_mode": {
    "name": "ipython",
    "version": 3
   },
   "file_extension": ".py",
   "mimetype": "text/x-python",
   "name": "python",
   "nbconvert_exporter": "python",
   "pygments_lexer": "ipython3",
   "version": "3.9.13"
  }
 },
 "nbformat": 4,
 "nbformat_minor": 5
}
